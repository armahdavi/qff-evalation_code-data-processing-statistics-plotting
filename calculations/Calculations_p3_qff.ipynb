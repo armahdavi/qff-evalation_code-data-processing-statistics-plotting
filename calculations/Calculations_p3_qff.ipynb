{
 "cells": [
  {
   "cell_type": "markdown",
   "id": "732dee38",
   "metadata": {},
   "source": [
    "# Numeric Results Summary\n",
    "\n",
    "The purpose of this file is to summarize and print all the numeric results announced in Mahdavi et al. (2021) Environmental Pollution (QFF Evaluation Phase)."
   ]
  },
  {
   "cell_type": "code",
   "execution_count": 3,
   "id": "641c43be",
   "metadata": {},
   "outputs": [],
   "source": [
    "import pandas as pd\n",
    "import numpy as np\n",
    "from scipy.stats import spearmanr, ranksums\n",
    "exec(open(r'C:\\PhD Research\\Generic Codes\\notion_corrections.py').read())"
   ]
  },
  {
   "cell_type": "code",
   "execution_count": 36,
   "id": "7b1a054c",
   "metadata": {},
   "outputs": [],
   "source": [
    "### QFF and airborne concentrations\n",
    "qff = pd.read_excel(backslash_correct(r'C:\\PhD Research\\Airborne\\Processed\\qff_pm.xlsx'))\n",
    "ab = pd.read_excel(backslash_correct(r'C:\\PhD Research\\Airborne\\Processed\\ab_pm_integ.xlsx'))\n",
    "df = ab.append(qff).reset_index(drop = True)\n",
    "\n",
    "### Trace metal QFF and airborne correlations\n",
    "tm = pd.read_excel(backslash_correct(r'C:\\PhD Research\\Airborne\\Processed\\tm_qff.xlsx'))\n",
    "tm = spearmanr(tm.iloc[:12,1], tm.iloc[-12:,1])\n",
    "\n",
    "### psd > 1 micron\n",
    "psd = pd.read_excel(backslash_correct(r'C:\\PhD Research\\Airborne\\Processed\\psd_above_1mic.xlsx'))"
   ]
  },
  {
   "cell_type": "code",
   "execution_count": 35,
   "id": "27cff8b4",
   "metadata": {},
   "outputs": [
    {
     "name": "stdout",
     "output_type": "stream",
     "text": [
      "Descriptive Statistics and Numeric Results:\n",
      "\n",
      "TSP concentration was recorded as 18.2 ± 3.1 and 15.4 ± 2.6 μg/m3, respectively, for airborne and QFF measurements.\n",
      "The spearman's rank correlation result p and rho values for between the tracemetal airborne and QFF concetrations are 1.3e-07 and 0.97.\n",
      "The dust fractions within 2.5-10 μm range from the QFF and airborne measurement was recorded as 11.4 and 14.7%, respectively.\n",
      "The dust fractions within  1-2.5 μm range from the QFF and airborne measurement was recorded as 1.9 and 5.3%, respectively.\n"
     ]
    }
   ],
   "source": [
    "### Descriptive Statistics and Numerical Results (in the PM Phase of the paper)\n",
    "\n",
    "print('Descriptive Statistics and Numeric Results:\\n')\n",
    "\n",
    "print('TSP concentration was recorded as {} ± {} and {} ± {} μg/m3, respectively, for airborne and QFF measurements.'.format(round(df.iloc[0,1],1),\n",
    "                                                                                                                             round(df.iloc[0,2],1),\n",
    "                                                                                                                             round(df.iloc[14,1],1),    \n",
    "                                                                                                                         round(df.iloc[14,2],1)))\n",
    "\n",
    "print(\"The spearman's rank correlation result p and rho values for between the tracemetal airborne and QFF concetrations are {} and {}.\".format(round(tm[1],8), \n",
    "                                                                                                                                               round(tm[0],2)))\n",
    "                                                                                                                                        \n",
    "    \n",
    "    \n",
    "print(\"The dust fractions within 2.5-10 μm range from the QFF and airborne measurement was recorded as {} and {}%, respectively.\".format(round(round(psd.iloc[1,0],1), \n",
    "                                                                                                                                                round(psd.iloc[4,0],1)))\n",
    "### Correcct 11.3\n",
    "print(\"The dust fractions within  1-2.5 μm range from the QFF and airborne measurement was recorded as {} and {}%, respectively.\".format(round(psd.iloc[0,0],1), \n",
    "                                                                                                                                               round(psd.iloc[3,0],1)))\n",
    "                                                                                                                                         "
   ]
  },
  {
   "cell_type": "markdown",
   "id": "385414d7",
   "metadata": {},
   "source": [
    "End of Code"
   ]
  },
  {
   "cell_type": "code",
   "execution_count": null,
   "id": "4d9d5c05",
   "metadata": {},
   "outputs": [],
   "source": []
  }
 ],
 "metadata": {
  "kernelspec": {
   "display_name": "Python 3 (ipykernel)",
   "language": "python",
   "name": "python3"
  },
  "language_info": {
   "codemirror_mode": {
    "name": "ipython",
    "version": 3
   },
   "file_extension": ".py",
   "mimetype": "text/x-python",
   "name": "python",
   "nbconvert_exporter": "python",
   "pygments_lexer": "ipython3",
   "version": "3.9.7"
  }
 },
 "nbformat": 4,
 "nbformat_minor": 5
}
