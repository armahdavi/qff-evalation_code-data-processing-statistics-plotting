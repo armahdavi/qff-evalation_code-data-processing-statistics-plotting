{
 "cells": [
  {
   "cell_type": "markdown",
   "id": "1338c20e",
   "metadata": {},
   "source": [
    "Figure 4A in Mahdavi et al. (2021) Environmental Pollution\n",
    "\n",
    "This figure compares particle size distribution (PSD) measured by airborne samples and QFF in the studied home for > 1 micron size range.\n",
    "\n",
    "Plot type: Bar plot"
   ]
  },
  {
   "cell_type": "code",
   "execution_count": 1,
   "id": "8d942e76",
   "metadata": {},
   "outputs": [],
   "source": [
    "import pandas as pd\n",
    "import numpy as np\n",
    "from matplotlib import pyplot as plt\n",
    "exec(open(r'C:\\PhD Research\\Generic Codes\\notion_corrections.py').read())"
   ]
  },
  {
   "cell_type": "code",
   "execution_count": 2,
   "id": "a1f883a1",
   "metadata": {},
   "outputs": [],
   "source": [
    "### Data preparation\n",
    "\n",
    "df = pd.read_excel(backslash_correct(r'C:\\PhD Research\\QFF Evaluation\\Processed\\psd_above_1mic.xlsx'))\n",
    "df = df.sort_values(['Size', 'Method']).reset_index(drop = True)\n",
    "\n",
    "counter = pd.Series([1,2,4,5,7,8])\n",
    "df = pd.concat([df, counter], axis = 1)\n"
   ]
  },
  {
   "cell_type": "code",
   "execution_count": 3,
   "id": "c609e9ed",
   "metadata": {},
   "outputs": [
    {
     "data": {
      "image/png": "[encoded data removed]",
      "text/plain": [
       "<Figure size 432x288 with 1 Axes>"
      ]
     },
     "metadata": {
      "needs_background": "light"
     },
     "output_type": "display_data"
    }
   ],
   "source": [
    "### Figure\n",
    "\n",
    "plt.figure()\n",
    "\n",
    "plt.bar(df[df['Method'] == 'AB'][0], df[df['Method'] == 'AB']['value'],\n",
    "        yerr = (df[df['Method'] == 'AB']['error'], df[df['Method'] == 'AB']['error']),\n",
    "        color = 'r', width = 1, edgecolor = 'k', label = 'Airborne',\n",
    "        ecolor = 'k', capsize = 3)\n",
    "        \n",
    "plt.bar(df[df['Method'] == 'QFF'][0], df[df['Method'] == 'QFF']['value'],\n",
    "        yerr = (df[df['Method'] == 'QFF']['error'], df[df['Method'] == 'QFF']['error']),\n",
    "        color = 'b', width = 1, edgecolor = 'k', label = 'QFF',\n",
    "        ecolor = 'k', capsize = 3)\n",
    "\n",
    "plt.xticks([])\n",
    "plt.xlim(0,9)\n",
    "\n",
    "plt.ylim(0,100)\n",
    "plt.yticks(np.arange(0, 101, step = 20))\n",
    "plt.ylabel('Mass/Volume Distribution (%)', size = 12)\n",
    "\n",
    "plt.text(1.5, -5, '1-2.5 µm', fontsize = 10, va = 'center', ha = 'center')\n",
    "plt.text(4.5, -5, '2.5-10 µm', fontsize = 10, va = 'center', ha = 'center')\n",
    "plt.text(7.5, -5, '> 10 µm', fontsize = 10, va = 'center', ha = 'center')\n",
    "\n",
    "plt.tick_params(axis = 'y', direction = 'inout')\n",
    "\n",
    "plt.legend(bbox_to_anchor=(0.74, 1.16), ncol = 2, fontsize = 12, frameon = True, edgecolor = 'black', framealpha=1)\n",
    "plt.savefig(r'C:/PhD Research/QFF Evaluation/Processed/plots/Figure4A.jpg', format='jpg', dpi=1600, bbox_inches='tight')\n"
   ]
  },
  {
   "cell_type": "markdown",
   "id": "94e6ac06",
   "metadata": {},
   "source": [
    "Endo of Code"
   ]
  },
  {
   "cell_type": "code",
   "execution_count": null,
   "id": "704f4560",
   "metadata": {},
   "outputs": [],
   "source": []
  }
 ],
 "metadata": {
  "kernelspec": {
   "display_name": "Python 3 (ipykernel)",
   "language": "python",
   "name": "python3"
  },
  "language_info": {
   "codemirror_mode": {
    "name": "ipython",
    "version": 3
   },
   "file_extension": ".py",
   "mimetype": "text/x-python",
   "name": "python",
   "nbconvert_exporter": "python",
   "pygments_lexer": "ipython3",
   "version": "3.9.7"
  }
 },
 "nbformat": 4,
 "nbformat_minor": 5
}
