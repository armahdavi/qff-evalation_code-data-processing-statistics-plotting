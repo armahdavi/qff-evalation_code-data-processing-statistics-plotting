{
 "cells": [
  {
   "cell_type": "markdown",
   "id": "7a6cf2e5",
   "metadata": {},
   "source": [
    "Figure 3A in Mahdavi et al. (2021) Environmental Pollution\n",
    "\n",
    "This figure compares trace metal concentrations measured by airborne samples and QFF in the studied home.\n",
    "\n",
    "Plot type: Scatter plot"
   ]
  },
  {
   "cell_type": "code",
   "execution_count": 1,
   "id": "1f989ecb",
   "metadata": {},
   "outputs": [],
   "source": [
    "import matplotlib as mpl\n",
    "from matplotlib import pyplot as plt\n",
    "import pandas as pd\n",
    "import numpy as np\n",
    "exec(open(r'C:\\PhD Research\\Generic Codes\\notion_corrections.py').read())"
   ]
  },
  {
   "cell_type": "code",
   "execution_count": 2,
   "id": "d730686c",
   "metadata": {},
   "outputs": [],
   "source": [
    "### Data pre-processing\n",
    "\n",
    "df = pd.read_excel(backslash_correct(r'C:\\PhD Research\\QFF Evaluation\\Processed\\tm_qff.xlsx'))\n",
    "df = df.iloc[-12:,:].merge(df.iloc[:12,:], on = 'Element')\n",
    "\n",
    "df.drop(['measure_x', 'measure_y'], axis = 1, inplace = True)\n",
    "\n",
    "color_list = ['b',\n",
    "              'orange',\n",
    "              'k',\n",
    "              'r',\n",
    "              'g',\n",
    "              'dimgrey',\n",
    "              'lightcoral',\n",
    "              'cornflowerblue',\n",
    "              'grey',\n",
    "              'springgreen',\n",
    "              'lightgrey',\n",
    "              'brown']\n",
    "\n",
    "x_list = df['Concentration_x'].to_list()\n",
    "coeff = pd.Series([0.65, 1.5, 1.8, 1.5, 1.5, 1.8, 0.65, 1.6, 1.6, 1.6, 0.65, 0.7 ])\n",
    "y_list = (df['Concentration_y'] * coeff).to_list()\n"
   ]
  },
  {
   "cell_type": "code",
   "execution_count": 3,
   "id": "7a22060e",
   "metadata": {},
   "outputs": [
    {
     "data": {
      "image/png": "[encoded data removed]",
      "text/plain": [
       "<Figure size 432x288 with 1 Axes>"
      ]
     },
     "metadata": {
      "needs_background": "light"
     },
     "output_type": "display_data"
    }
   ],
   "source": [
    "### Figure\n",
    "\n",
    "plt.figure()\n",
    "\n",
    "line = pd.Series(np.array([0.051, 399])) \n",
    "\n",
    "for i in range(len(df)):\n",
    "    plt.errorbar(df.iloc[i,:]['Concentration_x'], df.iloc[i,:]['Concentration_y'], \n",
    "                 xerr = df.iloc[i,2], yerr = df.iloc[i,4],                 \n",
    "                 c = color_list[i], marker = 'o', ms = 3,\n",
    "                ecolor = color_list[i], capsize = 2,   elinewidth = 0.5)\n",
    "\n",
    "plt.plot(line, line, ls = '--', c = 'k', linewidth = 0.5)\n",
    "\n",
    "plt.xscale('log')\n",
    "plt.xticks(np.logspace(-1, 2, 4))\n",
    "plt.xlim(0.05,400)\n",
    "plt.xlabel('QFF-estimated Concentration (ng/m$^{3}$)', size = 13)\n",
    "\n",
    "plt.yscale('log')\n",
    "plt.ylim(0.05 , 400)\n",
    "plt.yticks(np.logspace(-1, 2, 4))\n",
    "plt.ylabel('Airborne Concentration (ng/m$^{3}$)', size = 13)\n",
    "\n",
    "for i in range(len(df)):\n",
    "    plt.text(x_list[i], y_list[i], df.iloc[i,0], fontsize = 9, c = color_list[i], ha = 'center', va = 'center')\n",
    "\n",
    "plt.savefig(r'C:/PhD Research/QFF Evaluation/Processed/plots/Figure_3b.jpg', format='jpg', dpi=1600, bbox_inches='tight')\n"
   ]
  },
  {
   "cell_type": "markdown",
   "id": "b4bbe5c2",
   "metadata": {},
   "source": [
    "End of Code"
   ]
  },
  {
   "cell_type": "code",
   "execution_count": null,
   "id": "607230f0",
   "metadata": {},
   "outputs": [],
   "source": []
  }
 ],
 "metadata": {
  "kernelspec": {
   "display_name": "Python 3 (ipykernel)",
   "language": "python",
   "name": "python3"
  },
  "language_info": {
   "codemirror_mode": {
    "name": "ipython",
    "version": 3
   },
   "file_extension": ".py",
   "mimetype": "text/x-python",
   "name": "python",
   "nbconvert_exporter": "python",
   "pygments_lexer": "ipython3",
   "version": "3.9.7"
  }
 },
 "nbformat": 4,
 "nbformat_minor": 5
}
