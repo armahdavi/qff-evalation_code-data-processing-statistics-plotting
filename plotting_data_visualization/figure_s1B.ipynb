{
 "cells": [
  {
   "cell_type": "markdown",
   "id": "2385c496",
   "metadata": {},
   "source": [
    "Figure S1-B in Mahdavi et al. (2021) Environmental Pollution (in the Supplemental Information (SI))\n",
    "\n",
    "This figure compares particle size distribution (PSD) measured by airborne samples and QFF in the studied home.\n",
    "\n",
    "Plot type: Line plot"
   ]
  },
  {
   "cell_type": "code",
   "execution_count": 1,
   "id": "551e1288",
   "metadata": {},
   "outputs": [],
   "source": [
    "import pandas as pd\n",
    "import numpy as np\n",
    "from matplotlib import pyplot as plt\n",
    "from matplotlib import container\n",
    "exec(open(r'C:\\PhD Research\\Generic Codes\\notion_corrections.py').read())"
   ]
  },
  {
   "cell_type": "code",
   "execution_count": 2,
   "id": "9aed10c5",
   "metadata": {},
   "outputs": [],
   "source": [
    "### Pre-processing and data preparation\n",
    "\n",
    "df = pd.read_csv(backslash_correct(r'C:\\PhD Research\\QFF Evaluation\\Raw\\eff_summary.csv'))\n",
    "df = df[(df['bin'] != 1) & (df['bin'] != 2.5) & (df['bin'] != 10)]\n",
    "df = df[(df['site'] == 1) & (df['filter_type'] == 3)]\n",
    "\n",
    "df[['mu_filter_eff', 'mu_total_eff']] = df[['mu_filter_eff', 'mu_total_eff']].pow(2)\n",
    "\n",
    "df = df.groupby('bin', as_index = False).agg({'filter_eff' : 'mean',\n",
    "                            'total_eff' : 'mean',\n",
    "                            'mu_filter_eff' : 'sum',\n",
    "                            'mu_total_eff' : 'sum'})\n",
    "\n",
    "df[['mu_filter_eff', 'mu_total_eff']] = np.sqrt(df[['mu_filter_eff', 'mu_total_eff']])"
   ]
  },
  {
   "cell_type": "code",
   "execution_count": 3,
   "id": "10ebb36c",
   "metadata": {},
   "outputs": [
    {
     "data": {
      "image/png": "[encoded data removed]",
      "text/plain": [
       "<Figure size 432x288 with 1 Axes>"
      ]
     },
     "metadata": {
      "needs_background": "light"
     },
     "output_type": "display_data"
    }
   ],
   "source": [
    "### Figure\n",
    "\n",
    "plt.figure()\n",
    "plt.errorbar(df['bin'], df['filter_eff'], yerr = [df['mu_filter_eff'], df['mu_filter_eff']], xerr = None, \n",
    "             capsize = 2, lw = 0, c = \"r\", ecolor = 'r', elinewidth = 0.25, capthick = 0.25, label = 'Filter Efficiency', marker = 'o', markersize = 4)\n",
    "\n",
    "plt.errorbar(df['bin'], df['total_eff'], yerr = [df['mu_filter_eff'], df['mu_filter_eff']], xerr = None, \n",
    "             capsize = 2, lw = 0, c = \"b\", ecolor = 'b', elinewidth = 0.25, capthick = 0.25, label = 'Total Efficiency', marker = 'o', markersize = 4)\n",
    "\n",
    "plt.xscale('log')\n",
    "\n",
    "a = [10, 30, 100, 300, 1000, 3000, 10000, 30000]\n",
    "plt.xlim(10, 30000)\n",
    "plt.xticks(ticks = a, labels = a)\n",
    "plt.minorticks_off()\n",
    "plt.xlabel('Particle Size (nm)', size = 14)\n",
    "\n",
    "plt.ylim(0, 100)\n",
    "plt.yticks(np.arange(0, 101, step=20))\n",
    "plt.ylabel('Efficiency (%)', size = 14)\n",
    "\n",
    "plt.tick_params(axis = 'both', direction = 'inout')\n",
    "\n",
    "ax = plt.gca()\n",
    "handles, labels = ax.get_legend_handles_labels()\n",
    "new_handles = []\n",
    "for h in handles:\n",
    "\n",
    "    if isinstance(h, container.ErrorbarContainer):\n",
    "        new_handles.append(h[0])\n",
    "    else:\n",
    "        new_handles.append(h)\n",
    "ax.legend(new_handles, labels, loc = 2, frameon = True, edgecolor = 'black')\n",
    "\n",
    "plt.savefig(r'C:/PhD Research/QFF Evaluation/Processed/plots/Figure_s1b.jpg', format='jpg', dpi=1600, bbox_inches='tight')\n"
   ]
  },
  {
   "cell_type": "markdown",
   "id": "23101c57",
   "metadata": {},
   "source": [
    "End of Code"
   ]
  },
  {
   "cell_type": "code",
   "execution_count": null,
   "id": "176704b3",
   "metadata": {},
   "outputs": [],
   "source": []
  }
 ],
 "metadata": {
  "kernelspec": {
   "display_name": "Python 3 (ipykernel)",
   "language": "python",
   "name": "python3"
  },
  "language_info": {
   "codemirror_mode": {
    "name": "ipython",
    "version": 3
   },
   "file_extension": ".py",
   "mimetype": "text/x-python",
   "name": "python",
   "nbconvert_exporter": "python",
   "pygments_lexer": "ipython3",
   "version": "3.9.7"
  }
 },
 "nbformat": 4,
 "nbformat_minor": 5
}
