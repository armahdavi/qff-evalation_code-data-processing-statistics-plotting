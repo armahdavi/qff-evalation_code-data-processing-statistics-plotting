{
 "cells": [
  {
   "cell_type": "markdown",
   "id": "47aae46a",
   "metadata": {},
   "source": [
    "Figure 4A in Mahdavi et al. (2021) Environmental Pollution\n",
    "\n",
    "This figure compares particle size distribution (PSD) measured by airborne samples and QFF in the studied home.\n",
    "\n",
    "Plot type: Line plot"
   ]
  },
  {
   "cell_type": "code",
   "execution_count": 1,
   "id": "f799c222",
   "metadata": {},
   "outputs": [],
   "source": [
    "import sys\n",
    "sys.modules[__name__].__dict__.clear()\n",
    "\n",
    "import pandas as pd\n",
    "import numpy as np\n",
    "from matplotlib import pyplot as plt\n",
    "from matplotlib import container\n",
    "exec(open(r'C:\\PhD Research\\Generic Codes\\notion_corrections.py').read())"
   ]
  },
  {
   "cell_type": "code",
   "execution_count": 2,
   "id": "bfd2510a",
   "metadata": {},
   "outputs": [],
   "source": [
    "### Data preprocessing and preparation\n",
    "\n",
    "df = pd.read_excel(backslash_correct(r'C:\\PhD Research\\QFF Evaluation\\Processed\\psd_sci_dsitributed.xlsx'))\n",
    "psd = pd.read_excel(backslash_correct(r'C:\\PhD Research\\QFF Evaluation\\Processed\\psd_qff.xlsx'))\n",
    "\n",
    "l1 = [0.251, 0.501, 1, 2.51, 10] \n",
    "\n",
    "df_1 = df[df['Size'] == 0.251][['Size', 'Mass Perc']]\n",
    "df_2 = df[df['Size'] == 0.501][['Size', 'Mass Perc']]\n",
    "df_3 = df[df['Size'] == 1][['Size', 'Mass Perc']]\n",
    "df_4 = df[df['Size'] == 2.51][['Size', 'Mass Perc']]\n",
    "df_5 = df[df['Size'] == 10][['Size', 'Mass Perc']]\n",
    "\n",
    "ls_dict = {1: '--',\n",
    "           2: '-',\n",
    "           3: '-',\n",
    "           4: '-',\n",
    "           5: '-',\n",
    "           6: '--'}\n"
   ]
  },
  {
   "cell_type": "code",
   "execution_count": 3,
   "id": "a3643d0d",
   "metadata": {},
   "outputs": [
    {
     "data": {
      "image/png": "[encoded data removed]",
      "text/plain": [
       "<Figure size 432x288 with 1 Axes>"
      ]
     },
     "metadata": {
      "needs_background": "light"
     },
     "output_type": "display_data"
    }
   ],
   "source": [
    "### Figure\n",
    "\n",
    "plt.figure()\n",
    "\n",
    "i = 1\n",
    "for s in df['FP'].unique():\n",
    "    plt.plot(df[df['FP'] == s]['Size'], df[df['FP'] == s]['Mass Perc'], \n",
    "                 c = 'r', linewidth = 1, ls = ls_dict[i])\n",
    "    i += 1\n",
    "\n",
    "plt.plot(df_1['Size'], df_1['Mass Perc'], c = 'r', linewidth = 1, label = 'Airborne')\n",
    "plt.plot(df_2['Size'], df_2['Mass Perc'], c = 'r', linewidth = 1)\n",
    "plt.plot(df_3['Size'], df_3['Mass Perc'], c = 'r', linewidth = 1)\n",
    "plt.plot(df_4['Size'], df_4['Mass Perc'], c = 'r', linewidth = 1)\n",
    "plt.plot(df_5['Size'], df_5['Mass Perc'], c = 'r', linewidth = 1)\n",
    "\n",
    "plt.errorbar(psd['Size'], psd['qff psd'], \n",
    "             yerr = (psd['qff psd error'], psd['qff psd error']), \n",
    "             c = 'b', linewidth = 1, label = 'QFF',\n",
    "             capsize = 3, ecolor = 'k', elinewidth = 0.25, capthick = 0.25)\n",
    "\n",
    "plt.xscale('log')\n",
    "   \n",
    "a = [0.1, 0.3, 1, 3, 10, 30, 100, 300, 1000]\n",
    "plt.xlim(0.1, 1000)\n",
    "plt.xticks(ticks = a, labels = a)\n",
    "plt.minorticks_off()\n",
    "plt.xlabel('Particle Size (µm)', size = 14)\n",
    "\n",
    "plt.ylim(0, 8)\n",
    "plt.yticks(np.arange(0, 9, step=2))\n",
    "plt.ylabel('Volume/Mass Distribution (%)', size = 14)\n",
    "\n",
    "plt.tick_params(axis = 'both', direction = 'inout')\n",
    "\n",
    "ax = plt.gca()\n",
    "handles, labels = ax.get_legend_handles_labels()\n",
    "new_handles = []\n",
    "for h in handles:\n",
    "    #only need to edit the errorbar legend entries\n",
    "    if isinstance(h, container.ErrorbarContainer):\n",
    "        new_handles.append(h[0])\n",
    "    else:\n",
    "        new_handles.append(h)\n",
    "\n",
    "ax.legend(new_handles, labels, loc = 1, frameon = True, edgecolor = 'black', fontsize = 12, bbox_to_anchor=(0.78, 1.16), ncol = 2)\n",
    "plt.savefig(r'C:/PhD Research/QFF Evaluation/Processed/plots/Figure4a.jpg', format='jpg', dpi=1600, bbox_inches='tight')"
   ]
  },
  {
   "cell_type": "markdown",
   "id": "1cab6d84",
   "metadata": {},
   "source": [
    "End of Code"
   ]
  },
  {
   "cell_type": "code",
   "execution_count": null,
   "id": "900b0e8d",
   "metadata": {},
   "outputs": [],
   "source": []
  }
 ],
 "metadata": {
  "kernelspec": {
   "display_name": "Python 3 (ipykernel)",
   "language": "python",
   "name": "python3"
  },
  "language_info": {
   "codemirror_mode": {
    "name": "ipython",
    "version": 3
   },
   "file_extension": ".py",
   "mimetype": "text/x-python",
   "name": "python",
   "nbconvert_exporter": "python",
   "pygments_lexer": "ipython3",
   "version": "3.9.7"
  }
 },
 "nbformat": 4,
 "nbformat_minor": 5
}
