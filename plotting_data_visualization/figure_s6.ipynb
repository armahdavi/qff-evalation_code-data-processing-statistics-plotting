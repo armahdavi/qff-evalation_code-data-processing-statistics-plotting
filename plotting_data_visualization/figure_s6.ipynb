{
 "cells": [
  {
   "cell_type": "markdown",
   "id": "aa02b0e3",
   "metadata": {},
   "source": [
    "Figure S6 in Mahdavi et al. (2021) Environmental Pollution (in the Supplemental Information (SI))\n",
    "\n",
    "This figure compares particle size distribution (PSD) measured by airborne samples and QFF in the studied home.\n",
    "\n",
    "Plot type: Bar plot"
   ]
  },
  {
   "cell_type": "code",
   "execution_count": 1,
   "id": "eca9a70f",
   "metadata": {},
   "outputs": [],
   "source": [
    "import matplotlib.pyplot as plt\n",
    "import pandas as pd\n",
    "import numpy as np\n",
    "exec(open(r'C:\\PhD Research\\Generic Codes\\notion_corrections.py').read())"
   ]
  },
  {
   "cell_type": "code",
   "execution_count": 2,
   "id": "1dba1faa",
   "metadata": {},
   "outputs": [],
   "source": [
    "### Pre-processing and preparation\n",
    "\n",
    "qff = pd.read_excel(backslash_correct(r'C:\\PhD Research\\QFF Evaluation\\Processed\\qff_pm.xlsx'))\n",
    "ab = pd.read_excel(backslash_correct(r'C:\\PhD Research\\QFF Evaluation\\Processed\\ab_pm_integ.xlsx'))\n",
    "\n",
    "df = ab.append(qff).reset_index(drop = True)\n",
    "\n",
    "met_lab = {'ab': 1,\n",
    "           'qff': 2}\n",
    "\n",
    "sort_lab = {'PM1_2.5': 1,\n",
    "             'PM2.5_10': 2,\n",
    "             'PM1_inf': 3,\n",
    "             'PM2.5_inf': 4,\n",
    "             'PM10_inf': 5}\n",
    "\n",
    "df = df[(df['PM'] == 'PM1_2.5') | (df['PM'] == 'PM2.5_10') | (df['PM'] == 'PM1_inf') | (df['PM'] == 'PM2.5_inf') | (df['PM'] == 'PM10_inf')]\n",
    "df.replace({'PM': sort_lab, 'Measure': met_lab} , inplace = True)\n",
    "df.sort_values(['PM', 'Measure'], inplace = True)\n",
    "\n",
    "df['counter'] = 3*(df['PM'] - 1 ) + df['Measure'] \n"
   ]
  },
  {
   "cell_type": "code",
   "execution_count": 3,
   "id": "909f5c3f",
   "metadata": {},
   "outputs": [
    {
     "data": {
      "image/png": "[encoded data removed]",
      "text/plain": [
       "<Figure size 432x288 with 1 Axes>"
      ]
     },
     "metadata": {
      "needs_background": "light"
     },
     "output_type": "display_data"
    }
   ],
   "source": [
    "### Figure\n",
    "\n",
    "plt.figure()\n",
    "\n",
    "plt.bar(df[df['Measure'] == 1]['counter'], df[df['Measure'] == 1]['Concentration'],\n",
    "        yerr = (df[df['Measure'] == 1]['Error'], df[df['Measure'] == 1]['Error']),\n",
    "        color = 'r', width = 1, edgecolor = 'k', label = 'Airborne',\n",
    "        ecolor = 'k', capsize = 3)\n",
    "        \n",
    "plt.bar(df[df['Measure'] == 2]['counter'], df[df['Measure'] == 2]['Concentration'],\n",
    "        yerr = (df[df['Measure'] == 2]['Error'], df[df['Measure'] == 2]['Error']),\n",
    "        color = 'b', width = 1, edgecolor = 'k', label = 'QFF',\n",
    "        ecolor = 'k', capsize = 3)\n",
    "        \n",
    "plt.xticks([])\n",
    "plt.xlim(0,15)\n",
    "\n",
    "plt.ylim(0,20)\n",
    "plt.yticks(np.arange(0, 22, step = 5))\n",
    "plt.ylabel('Concentration (µg/m$^{3}$)', size = 15)\n",
    "\n",
    "plt.text(1.5, -1.3, 'PM$_{1-2.5}$', fontsize = 10, va = 'center', ha = 'center')\n",
    "plt.text(4.5, -1.3, 'PM$_{2.5-10}$', fontsize = 10, va = 'center', ha = 'center')\n",
    "plt.text(7.5, -1.3, 'PM$_{1-∞}$', fontsize = 10, va = 'center', ha = 'center')\n",
    "plt.text(10.5, -1.3, 'PM$_{2.5-∞}$', fontsize = 10, va = 'center', ha = 'center')\n",
    "plt.text(13.5, -1.3, 'PM$_{10-∞}$', fontsize = 10, va = 'center', ha = 'center')\n",
    "\n",
    "\n",
    "plt.text(1.1, 2, '4%', fontsize = 10, va = 'center', ha = 'center')\n",
    "plt.text(2.1, 1.5, '2%', fontsize = 10, va = 'center', ha = 'center')\n",
    "\n",
    "plt.text(4.1, 3.35, '10%', fontsize = 10, va = 'center', ha = 'center')\n",
    "plt.text(5.1, 3.15, '12%', fontsize = 10, va = 'center', ha = 'center')\n",
    "\n",
    "plt.text(7.1, 16.8, '67%', fontsize = 10, va = 'center', ha = 'center')\n",
    "plt.text(8.1, 19, '100%', fontsize = 10, va = 'center', ha = 'center')\n",
    "\n",
    "plt.text(10.1, 15.8, '64%', fontsize = 10, va = 'center', ha = 'center')\n",
    "plt.text(11.1, 18.5, '97%', fontsize = 10, va = 'center', ha = 'center')\n",
    "\n",
    "plt.text(13.1, 14, '53%', fontsize = 10, va = 'center', ha = 'center')\n",
    "plt.text(14.1, 16.9, '85%', fontsize = 10, va = 'center', ha = 'center')\n",
    "\n",
    "plt.tick_params(axis = 'y', direction = 'inout')\n",
    "\n",
    "plt.legend(bbox_to_anchor=(0.78, 1.16), ncol = 2, fontsize = 12, frameon = True, edgecolor = 'black', framealpha=1)\n",
    "plt.savefig(r'C:/PhD Research/QFF Evaluation/Processed/plots/Figure_s6.jpg', format='jpg', dpi=1600, bbox_inches='tight')\n"
   ]
  },
  {
   "cell_type": "markdown",
   "id": "de7957d4",
   "metadata": {},
   "source": [
    "End of Code"
   ]
  },
  {
   "cell_type": "code",
   "execution_count": null,
   "id": "8bdb0955",
   "metadata": {},
   "outputs": [],
   "source": []
  }
 ],
 "metadata": {
  "kernelspec": {
   "display_name": "Python 3 (ipykernel)",
   "language": "python",
   "name": "python3"
  },
  "language_info": {
   "codemirror_mode": {
    "name": "ipython",
    "version": 3
   },
   "file_extension": ".py",
   "mimetype": "text/x-python",
   "name": "python",
   "nbconvert_exporter": "python",
   "pygments_lexer": "ipython3",
   "version": "3.9.7"
  }
 },
 "nbformat": 4,
 "nbformat_minor": 5
}
