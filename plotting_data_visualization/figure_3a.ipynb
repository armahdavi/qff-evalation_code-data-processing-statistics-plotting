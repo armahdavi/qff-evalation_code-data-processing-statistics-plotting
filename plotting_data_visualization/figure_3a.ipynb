{
 "cells": [
  {
   "cell_type": "markdown",
   "id": "720f6321",
   "metadata": {},
   "source": [
    "Figure 3A in Mahdavi et al. (2021) Environmental Pollution\n",
    "\n",
    "This figure compares TSP, PM10, PM2.5, and PM1 concentrations measured by airborne samples and QFF in the studied home.\n",
    "\n",
    "Plot type: Bar plot"
   ]
  },
  {
   "cell_type": "code",
   "execution_count": 1,
   "id": "5a9cb042",
   "metadata": {},
   "outputs": [],
   "source": [
    "import matplotlib.pyplot as plt\n",
    "import pandas as pd\n",
    "import numpy as np\n",
    "exec(open(r'C:\\PhD Research\\Generic Codes\\notion_corrections.py').read())"
   ]
  },
  {
   "cell_type": "code",
   "execution_count": 2,
   "id": "be357d09",
   "metadata": {},
   "outputs": [
    {
     "name": "stderr",
     "output_type": "stream",
     "text": [
      "C:\\Users\\alima\\anaconda3\\lib\\site-packages\\pandas\\core\\indexing.py:1773: SettingWithCopyWarning: \n",
      "A value is trying to be set on a copy of a slice from a DataFrame.\n",
      "Try using .loc[row_indexer,col_indexer] = value instead\n",
      "\n",
      "See the caveats in the documentation: https://pandas.pydata.org/pandas-docs/stable/user_guide/indexing.html#returning-a-view-versus-a-copy\n",
      "  self._setitem_single_column(ilocs[0], value, pi)\n",
      "C:\\Users\\alima\\anaconda3\\lib\\site-packages\\pandas\\util\\_decorators.py:311: SettingWithCopyWarning: \n",
      "A value is trying to be set on a copy of a slice from a DataFrame\n",
      "\n",
      "See the caveats in the documentation: https://pandas.pydata.org/pandas-docs/stable/user_guide/indexing.html#returning-a-view-versus-a-copy\n",
      "  return func(*args, **kwargs)\n",
      "C:\\Users\\alima\\AppData\\Local\\Temp/ipykernel_31264/237540687.py:25: SettingWithCopyWarning: \n",
      "A value is trying to be set on a copy of a slice from a DataFrame.\n",
      "Try using .loc[row_indexer,col_indexer] = value instead\n",
      "\n",
      "See the caveats in the documentation: https://pandas.pydata.org/pandas-docs/stable/user_guide/indexing.html#returning-a-view-versus-a-copy\n",
      "  df_3a['counter'] = 3*(df_3a['PM'] - 1 ) + df_3a['Measure']\n"
     ]
    }
   ],
   "source": [
    "### Data pre-processing and preparation\n",
    "\n",
    "qff = pd.read_excel(backslash_correct(r'C:\\PhD Research\\QFF Evaluation\\Processed\\qff_pm.xlsx'))\n",
    "ab = pd.read_excel(backslash_correct(r'C:\\PhD Research\\QFF Evaluation\\Processed\\ab_pm_integ.xlsx'))\n",
    "\n",
    "df = ab.append(qff).reset_index(drop = True)\n",
    "\n",
    "sort_lab = {'PM1': 1,\n",
    "            'PM2.5': 2,\n",
    "            'PM10': 3,\n",
    "            'TSP': 4}\n",
    "\n",
    "met_lab = {'ab': 1,\n",
    "           'qff': 2}\n",
    "\n",
    "sort_lab2 = {1: 'PM1-2.5',\n",
    "             2: 'PM2.5-10',\n",
    "             3: 'PM1_inf',\n",
    "             4: 'PM2.5_inf',\n",
    "             5: 'PM10_inf'}\n",
    "\n",
    "df_3a = df[(df['PM'] == 'TSP') | (df['PM'] == 'PM10') | (df['PM'] == 'PM2.5') | (df['PM'] == 'PM1')]\n",
    "df_3a.replace({'PM': sort_lab, 'Measure': met_lab} , inplace = True)\n",
    "df_3a.sort_values(['PM', 'Measure'], inplace = True)\n",
    "\n",
    "df_3a['counter'] = 3*(df_3a['PM'] - 1 ) + df_3a['Measure'] \n"
   ]
  },
  {
   "cell_type": "code",
   "execution_count": 3,
   "id": "0f157263",
   "metadata": {},
   "outputs": [
    {
     "data": {
      "image/png": "[encoded data removed]",
      "text/plain": [
       "<Figure size 432x288 with 1 Axes>"
      ]
     },
     "metadata": {
      "needs_background": "light"
     },
     "output_type": "display_data"
    }
   ],
   "source": [
    "### Figure\n",
    "\n",
    "plt.figure()\n",
    "\n",
    "plt.bar(df_3a[df_3a['Measure'] == 1]['counter'], df_3a[df_3a['Measure'] == 1]['Concentration'],\n",
    "        yerr = (df_3a[df_3a['Measure'] == 1]['Error'], df_3a[df_3a['Measure'] == 1]['Error']),\n",
    "        color = 'r', width = 1, edgecolor = 'k', label = 'Airborne',\n",
    "        ecolor = 'k', capsize = 3)\n",
    "        \n",
    "plt.bar(df_3a[df_3a['Measure'] == 2]['counter'], df_3a[df_3a['Measure'] == 2]['Concentration'],\n",
    "        yerr = (df_3a[df_3a['Measure'] == 2]['Error'], df_3a[df_3a['Measure'] == 2]['Error']),\n",
    "        color = 'b', width = 1, edgecolor = 'k', label = 'QFF',\n",
    "        ecolor = 'k', capsize = 3)\n",
    "        \n",
    "plt.xticks([])\n",
    "plt.xlim(0,12)\n",
    "\n",
    "plt.ylim(0,22)\n",
    "plt.yticks(np.arange(0, 22, step = 5))\n",
    "plt.ylabel('Concentration (µg/m$^{3}$)', size = 15)\n",
    "\n",
    "plt.text(1.5, -1.3, 'PM$_{1}$', fontsize = 12, va = 'center', ha = 'center')\n",
    "plt.text(4.5, -1.3, 'PM$_{2.5}$', fontsize = 12, va = 'center', ha = 'center')\n",
    "plt.text(7.5, -1.3, 'PM$_{10}$', fontsize = 12, va = 'center', ha = 'center')\n",
    "plt.text(10.5, -1.3, 'TSP', fontsize = 12, va = 'center', ha = 'center')\n",
    "\n",
    "plt.text(1.1, 7.4, '33%', fontsize = 10, va = 'center', ha = 'center')\n",
    "plt.text(2.1, 1, '0%', fontsize = 10, va = 'center', ha = 'center')\n",
    "\n",
    "plt.text(4.1, 8, '36%', fontsize = 10, va = 'center', ha = 'center')\n",
    "plt.text(5.1, 1.8, '3%', fontsize = 10, va = 'center', ha = 'center')\n",
    "\n",
    "plt.text(7.1, 10, '47%', fontsize = 10, va = 'center', ha = 'center')\n",
    "plt.text(8.1, 4, '15%', fontsize = 10, va = 'center', ha = 'center')\n",
    "\n",
    "plt.tick_params(axis = 'y', direction = 'inout')\n",
    "\n",
    "plt.legend(bbox_to_anchor=(0.78, 1.16), ncol = 2, fontsize = 12, frameon = True, edgecolor = 'black', framealpha=1)\n",
    "plt.savefig(r'C:/PhD Research/QFF Evaluation/Processed/plots/Figure3A.jpg', format='jpg', dpi=1600, bbox_inches='tight')"
   ]
  },
  {
   "cell_type": "markdown",
   "id": "fd75aa1b",
   "metadata": {},
   "source": [
    "End of Code"
   ]
  },
  {
   "cell_type": "code",
   "execution_count": null,
   "id": "e1dadcf3",
   "metadata": {},
   "outputs": [],
   "source": []
  }
 ],
 "metadata": {
  "kernelspec": {
   "display_name": "Python 3 (ipykernel)",
   "language": "python",
   "name": "python3"
  },
  "language_info": {
   "codemirror_mode": {
    "name": "ipython",
    "version": 3
   },
   "file_extension": ".py",
   "mimetype": "text/x-python",
   "name": "python",
   "nbconvert_exporter": "python",
   "pygments_lexer": "ipython3",
   "version": "3.9.7"
  }
 },
 "nbformat": 4,
 "nbformat_minor": 5
}
